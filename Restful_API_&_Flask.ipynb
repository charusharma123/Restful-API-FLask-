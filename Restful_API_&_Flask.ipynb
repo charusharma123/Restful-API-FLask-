{
  "cells": [
    {
      "cell_type": "markdown",
      "metadata": {
        "id": "wmydgc1HTYM4"
      },
      "source": [
        "# Restful API & Flask:"
      ]
    },
    {
      "cell_type": "markdown",
      "metadata": {
        "id": "h1G3XgNsVxqT"
      },
      "source": [
        " 1. What is a RESTful API?\n",
        "  - A RESTful API (Representational State Transfer Application Programming Interface) is an architectural style for designing networked applications. It relies on a stateless, client-server communication protocol, typically HTTP, and uses standard HTTP methods (GET, POST, PUT, DELETE) to access and manipulate resources identified by URLs.\n",
        "\n",
        " 2. Explain the concept of API specification.\n",
        "  - An API specification is a document or set of documents that describes how to use and integrate with an API. It details the available endpoints, the HTTP methods they support, the request and response formats (including data types and structures), authentication methods, and any other relevant information for developers to interact with the API effectively. Common formats include OpenAPI (Swagger) and RAML.\n",
        "\n",
        " 3. What is FLask, and why is it popular for buindling APIs?\n",
        "  - Flask is a lightweight and flexible Python web framework used to build web applications and APIs. It's popular for API development because it's simple, easy to learn, and highly customizable. Flask provides essential tools like routing and request handling with minimal setup, allowing developers to quickly build RESTful APIs. Its large ecosystem of extensions (like Flask-RESTful and Flask-JWT) and strong community support also make it ideal for creating scalable and maintainable APIs.\n",
        "\n",
        " 4. What is routing in Flask?\n",
        "  - Routing in Flask is the process of mapping specific URL endpoints (routes) to Python functions. When a client makes a request to a particular URL, Flask's routing mechanism determines which function should be executed to handle that request. The @app.route() decorator is used to define these mappings.\n",
        "\n",
        " 5. How do you create a simple Flask application?\n",
        "  - A simple Flask application typically involves importing the Flask class, creating an instance of the application, and defining at least one route and its associated view function. You would then run the application using app.run().\n",
        "   from flask import Flask\n",
        "\n",
        "app = Flask(_name_)\n",
        "\n",
        "@app.route('/')\n",
        "def hello_world():\n",
        "    return 'Hello, World!'\n",
        "\n",
        "if _name_ == '_main_':\n",
        "    app.run(debug=True)\n",
        "\n",
        " 6. What are HTTP methods used in RESTFUL APIs?\n",
        "  - In RESTful APIs, HTTP methods define the type of operation the client wants to perform on a resource. The most commonly used methods are:\n",
        "  * GET\n",
        "    Purpose: Retrieve data from the server.\n",
        "    Example: GET /users – fetch a list of users.\n",
        "    Safe and idempotent (doesn’t change data).\n",
        "  \n",
        "  * POST\n",
        "    Purpose: Create a new resource on the server.\n",
        "    Example: POST /users – create a new user with provided data.\n",
        "    Not idempotent – calling it multiple times creates multiple resources.\n",
        "\n",
        "  * PUT\n",
        "    Purpose: Update/replace an existing resource completely.\n",
        "    Example: PUT /users/1 – replace user with ID 1.\n",
        "    Idempotent – same request has the same effect.\n",
        "\n",
        "  * PATCH\n",
        "    Purpose: Partially update a resource.\n",
        "    Example: PATCH /users/1 – update part of user data.\n",
        "    Also idempotent in most implementations.\n",
        "\n",
        "  * DELETE\n",
        "    Purpose: Delete a resource from the server.\n",
        "    Example: DELETE /users/1 – delete user with ID 1.\n",
        "    Idempotent – deleting the same resource multiple times has the same effect.\n",
        "\n",
        " 7. What is the purpose of the @app.route() decorator in Flask?\n",
        "  - The @app.route() decorator in Flask is used to bind a URL rule (endpoint) to a specific Python function (view function). When Flask receives a request for the URL specified in the decorator, it calls the associated function to handle that request and return a response.\n",
        " 8. WHat is the difference between GET and POST HTTP methods?\n",
        "   * GET requests are used to retrieve data from the server. They typically do not have a request body and are idempotent (making the same request multiple times has the same effect as making it once). Data is often passed in the URL as query parameters.\n",
        "   * POST requests are used to submit data to the server to create a new resource. They usually have a request body containing the data to be sent and are generally not idempotent.\n",
        "\n",
        " 9. How do you handle error in Flask APIs?\n",
        "  - In Flask APIs, errors are handled using several methods:\n",
        "  * abort(): Immediately stops the request and returns an error (e.g., abort(404)).\n",
        "\n",
        "  * Custom Error Handlers: Use @app.errorhandler() to return custom JSON messages for specific errors.\n",
        "\n",
        "  * try-except Blocks: Catch exceptions like ZeroDivisionError and return appropriate responses.\n",
        "\n",
        "  * Extensions: Tools like Flask-RESTful offer built-in error handling support.\n",
        "\n",
        "  * Always return clear JSON messages with proper HTTP status codes (e.g., 400, 404, 500) to make your API more reliable and user-friendly.\n",
        "\n",
        " 10. How do you connect Flask to a SQL database?\n",
        "   You can connect Flask to a SQL database using libraries like SQLAlchemy or Flask-SQLAlchemy (which simplifies using SQLAlchemy with Flask) or by using a database connector library directly (e.g., psycopg2 for PostgreSQL, mysql.connector for MySQL, sqlite3 for SQLite). You would typically configure the database connection in your Flask application and then use the chosen library's methods to interact with the database.\n",
        "\n",
        " 11. What is the role of Flask-SQLAlchemy?\n",
        "  - Flask-SQLAlchemy is an extension for Flask that integrates SQLAlchemy, an ORM (Object Relational Mapper), into Flask applications. It simplifies database interactions by allowing you to work with database tables as Python classes, making querying and updating data easier. It also manages database configuration, schema, and supports migrations through tools like Flask-Migrate.\n",
        "\n",
        " 12. What are Flask blueprints, and how are they useful?\n",
        "  - Flask blueprints are a way to organize your Flask application into reusable components. They allow you to define routes, templates, static files, and other application logic within a blueprint and then register that blueprint with your main application. This is useful for:\n",
        "   * Structuring large applications.\n",
        "   * Creating reusable application components.\n",
        "   * Organizing related views and functionality.\n",
        "   * Providing a way to register multiple applications on a single application object.\n",
        "\n",
        " 13. What is the purpose of Flask's request object?\n",
        "  - The Flask request object provides access to all incoming request data from the client, such as:\n",
        "   * Form data (request.form)\n",
        "   * Query parameters (request.args)\n",
        "   * JSON data (request.get_json())\n",
        "   * Headers (request.headers)\n",
        "   * Files (request.files)\n",
        "   * HTTP method (request.method)\n",
        "   * URL (request.url)\n",
        "     It's essential for handling client requests and extracting the necessary information to process them.\n",
        "\n",
        " 14. How do you create a RESTFUL API endpoint using Flask?\n",
        "  - To create a RESTful API endpoint using Flask, follow these steps:\n",
        "\n",
        "   1. Install Flask:\n",
        "      Make sure you have Flask installed. You can install it using:\n",
        "      \n",
        "    pip install flask\n",
        "   2. Create the Flask Application:\n",
        "      Set up your Flask app and define an endpoint (route) for the API.\n",
        "\n",
        "   3. Define Routes and Methods:\n",
        "      Use Flask's routing system to define the endpoints and HTTP methods (like GET, POST, etc.).\n",
        "      from flask import Flask, jsonify, request\n",
        "\n",
        "     app = Flask(__name__)\n",
        "\n",
        "     @app.route('/users', methods=['GET'])\n",
        "     def get_users():\n",
        "        return jsonify([{'id': 1, 'name': 'Alice'}, {'id': 2, 'name': 'Bob'}])\n",
        "\n",
        "     if __name__ == '__main__':\n",
        "        app.run(debug=True)\n",
        "\n",
        " 15. What is the purpose of Flask's jsonify() function?\n",
        "  - The jsonify() function in Flask is used to convert Python dictionaries or lists into JSON (JavaScript Object Notation) responses with the correct Content-Type header (application/json). This is crucial for building APIs that communicate data in a standard format that can be easily consumed by web browsers and other applications.\n",
        " 16. Explain Flask's url_for() function?\n",
        "  - The url_for() function in Flask is used to dynamically build URLs for a given view function by referencing the function's name, rather than hardcoding the URL path. This makes your code more maintainable, especially when your routes change, because you only need to update the route in one place — the function definition — and url_for() will automatically generate the correct URL wherever it’s used.\n",
        "  \n",
        " 17. How does Flask handle static files (CSS, JavaScript, etc.)?\n",
        "  - Flask automatically handles static files (like CSS, JavaScript, images) located in a folder named static within your application's directory (or a directory you configure). You can then access these files in your templates using the url_for('static', filename='your_file.css') function.\n",
        " 18. What is an API specification, and how does it helps in building a Flask API?  \n",
        "  - An API specification is a formal description of how an API behaves, what endpoints it offers, what requests it accepts, and what responses it returns. It acts like a contract between the backend and any client (web, mobile, or another service) that consumes the API.\n",
        " 19. What are HTTP error codes, and why are they important in building a Flask API?\n",
        "  -  HTTP error codes are standardized responses from web servers indicating the outcome of a client's request. They are crucial for Flask APIs because they enable clear communication of success or failure to clients, facilitate effective error handling on the client side, aid in debugging, align with API best practices, and are essential for monitoring API health. Flask allows you to easily return these codes with your responses.\n",
        " 20. How do you handle POST requests in Flask?\n",
        "  - To handle POST requests in Flask, you define a route that accepts the POST method using the methods=['POST'] argument in the @app.route() decorator. Inside the associated view function, you can access the data sent in the request body using the request object (e.g., request.form for form data, request.get_json() for JSON data).\n",
        " 21. How would you secure a Flask API?\n",
        "  - Securing a Flask API involves several measures, including:\n",
        "   * HTTPS: Using SSL/TLS to encrypt communication.\n",
        "   * Authentication: Verifying the identity of the client (e.g., using API keys, JWT, OAuth 2.0).\n",
        "   * Authorization: Controlling what actions authenticated clients are allowed to perform (e.g., using roles and permissions).\n",
        "   * Input Validation: Sanitizing and validating all incoming data to prevent injection attacks.\n",
        "   * Rate Limiting: Protecting against abuse and denial-of-service attacks.\n",
        "   * CORS (Cross-Origin Resource Sharing): Configuring which domains are allowed to access your API.\n",
        "   * Security Headers: Setting HTTP headers to enhance security (e.g., Content-Security-Policy, Strict-Transport-Security).\n",
        " 22. What is the significance of the Flask-RESTful extension?\n",
        "  - Flask-RESTful is a Flask extension that simplifies building RESTful APIs. It provides tools and conventions for defining API resources as Python classes, handling different HTTP methods for those resources, parsing request arguments, and generating responses. It helps structure your API code in a more organized and consistent way, making it easier to develop and maintain.\n",
        " 23. What is the role of Flask's session object?\n",
        "  - The Flask session object allows you to store data specific to a user across multiple requests. It uses signed cookies on the client-side to securely store this information. Sessions are useful for implementing features like user login status, shopping carts, and temporary user preferences.\n",
        "\n"
      ]
    },
    {
      "cell_type": "markdown",
      "metadata": {
        "id": "KK83VR1qUuCb"
      },
      "source": [
        "# Practical Questions:"
      ]
    },
    {
      "cell_type": "markdown",
      "metadata": {
        "id": "BlYXVRLbUyC6"
      },
      "source": [
        "1. How do you create a basic Flask application?"
      ]
    },
    {
      "cell_type": "code",
      "execution_count": null,
      "metadata": {
        "id": "Mvrz85tvc2rF"
      },
      "outputs": [],
      "source": [
        "from flask import Flask, render_template\n",
        "\n",
        "app = Flask(__name__)\n",
        "\n",
        "@app.route('/')\n",
        "def hello_world():\n",
        "    return render_template('flaskbasic.html')  # Render the HTML template\n",
        "\n",
        "if __name__ == '__main__':\n",
        "    app.run(debug=True)\n"
      ]
    },
    {
      "cell_type": "markdown",
      "metadata": {
        "id": "tXz6ZMhkXn8C"
      },
      "source": [
        "2. How do you serve static files like images or CSS in Flask?"
      ]
    },
    {
      "cell_type": "code",
      "execution_count": null,
      "metadata": {
        "id": "2IEVGJukc2Qb",
        "colab": {
          "base_uri": "https://localhost:8080/",
          "height": 87
        },
        "outputId": "ee5252f3-edee-410d-a3ec-62240ad7714e"
      },
      "outputs": [
        {
          "output_type": "execute_result",
          "data": {
            "text/plain": [
              "' \\nindex.html:\\n<!DOCTYPE html>\\n<html>\\n<head>\\n    <title>My Flask App</title>\\n    <link rel=\"stylesheet\" type=\"text/css\" href=\"{{ url_for(\\'static\\', filename=\\'style.css\\') }}\">\\n</head>\\n<body>\\n    <h1>Hello from Flask!</h1>\\n    <img src=\"{{ url_for(\\'static\\', filename=\\'images/my_image.png\\') }}\" alt=\"My Image\"> \\n</body>\\n</html>\\n'"
            ],
            "application/vnd.google.colaboratory.intrinsic+json": {
              "type": "string"
            }
          },
          "metadata": {},
          "execution_count": 11
        }
      ],
      "source": [
        "from flask import Flask, render_template, url_for\n",
        "\n",
        "app = Flask(__name__)\n",
        "\n",
        "@app.route('/')\n",
        "def index():\n",
        "    return render_template('index.html')\n",
        "\n",
        "if __name__ == '__main__':\n",
        "    app.run(debug=True)\n",
        "\n",
        "\"\"\"\n",
        "index.html:\n",
        "<!DOCTYPE html>\n",
        "<html>\n",
        "<head>\n",
        "    <title>My Flask App</title>\n",
        "    <link rel=\"stylesheet\" type=\"text/css\" href=\"{{ url_for('static', filename='style.css') }}\">\n",
        "</head>\n",
        "<body>\n",
        "    <h1>Hello from Flask!</h1>\n",
        "    <img src=\"{{ url_for('static', filename='images/my_image.png') }}\" alt=\"My Image\">\n",
        "</body>\n",
        "</html>\n",
        "\"\"\"\n"
      ]
    },
    {
      "cell_type": "markdown",
      "metadata": {
        "id": "1Z8Mf2NBXnYW"
      },
      "source": [
        "3. How do you define different routes with different HTTP methods in Flask?"
      ]
    },
    {
      "cell_type": "code",
      "execution_count": null,
      "metadata": {
        "id": "zvDp3hU7XnG7"
      },
      "outputs": [],
      "source": [
        "from flask import Flask, request\n",
        "\n",
        "app = Flask(__name__) # Changed _name_ to __name__\n",
        "\n",
        "@app.route('/login', methods=['GET', 'POST'])\n",
        "def login():\n",
        "    if request.method == 'POST':\n",
        "        username = request.form['username']\n",
        "        password = request.form['password']\n",
        "        # Process login logic here\n",
        "        return f'Logging in user: {username}'\n",
        "    else:\n",
        "        return '''\n",
        "            <form method=\"POST\">\n",
        "                <label for=\"username\">Username:</label><br>\n",
        "                <input type=\"text\" id=\"username\" name=\"username\"><br>\n",
        "                <label for=\"password\">Password:</label><br>\n",
        "                <input type=\"password\" id=\"password\" name=\"password\"><br><br>\n",
        "                <input type=\"submit\" value=\"Submit\">\n",
        "            </form>\n",
        "        '''\n",
        "\n",
        "if __name__ == '__main__': # Changed _name_ to __name__\n",
        "    app.run(debug=True)\n"
      ]
    },
    {
      "cell_type": "markdown",
      "metadata": {
        "id": "4cMcFiUTXm2y"
      },
      "source": [
        "4. How do you render HTML templates in Flask?"
      ]
    },
    {
      "cell_type": "code",
      "execution_count": null,
      "metadata": {
        "id": "6b4m52VtXmlw"
      },
      "outputs": [],
      "source": [
        "from flask import Flask, render_template\n",
        "\n",
        "app = Flask(__name__)\n",
        "\n",
        "@app.route('/greet/<name>')\n",
        "def greet(name):\n",
        "    return render_template('greet.html', user_name=name)\n",
        "\n",
        "if __name__ == '__main__':\n",
        "    app.run(debug=True)\n"
      ]
    },
    {
      "cell_type": "markdown",
      "metadata": {
        "id": "Xuip3yMvXmUG"
      },
      "source": [
        "5. How do you genereat URLs for routes in Flask using url_for?"
      ]
    },
    {
      "cell_type": "code",
      "execution_count": null,
      "metadata": {
        "id": "yo7KlunPXl9l"
      },
      "outputs": [],
      "source": [
        "from flask import Flask, url_for\n",
        "\n",
        "app = Flask(__name__) # Changed _name_ to __name__\n",
        "\n",
        "@app.route('/')\n",
        "def index():\n",
        "    return 'This is the index page. Go to <a href=\"{}\">profile</a>'.format(url_for('profile', username='JohnDoe'))\n",
        "\n",
        "@app.route('/user/<username>')\n",
        "def profile(username):\n",
        "    return f'Profile page for user: {username}'\n",
        "\n",
        "if __name__ == '__main__': # Changed _name_ to __name__\n",
        "    app.run(debug=True)"
      ]
    },
    {
      "cell_type": "markdown",
      "metadata": {
        "id": "TvShqp_MXlrx"
      },
      "source": [
        "6. How do you handle froms in Flask?"
      ]
    },
    {
      "cell_type": "code",
      "source": [
        "# https://pypi.python.org/pypi/pydot\n",
        "!apt-get -qq install -y graphviz && pip install pydot\n",
        "import pydot"
      ],
      "metadata": {
        "colab": {
          "base_uri": "https://localhost:8080/"
        },
        "id": "FDIU-CPzxiLK",
        "outputId": "5a63e397-e3ff-4ab3-dbe0-b888bff4a054"
      },
      "execution_count": null,
      "outputs": [
        {
          "output_type": "stream",
          "name": "stdout",
          "text": [
            "Requirement already satisfied: pydot in /usr/local/lib/python3.11/dist-packages (3.0.4)\n",
            "Requirement already satisfied: pyparsing>=3.0.9 in /usr/local/lib/python3.11/dist-packages (from pydot) (3.2.3)\n"
          ]
        }
      ]
    },
    {
      "cell_type": "markdown",
      "source": [
        "7. How do you Validate from data in flask?\n"
      ],
      "metadata": {
        "id": "-mAIr3Smy5dx"
      }
    },
    {
      "cell_type": "code",
      "execution_count": 9,
      "metadata": {
        "id": "zbx-WIe-XlZt",
        "colab": {
          "base_uri": "https://localhost:8080/"
        },
        "outputId": "22e0d407-c218-44eb-cf21-296b670ecf6a"
      },
      "outputs": [
        {
          "output_type": "stream",
          "name": "stdout",
          "text": [
            "Selecting previously unselected package libarchive-dev:amd64.\n",
            "(Reading database ... 126333 files and directories currently installed.)\n",
            "Preparing to unpack .../libarchive-dev_3.6.0-1ubuntu1.4_amd64.deb ...\n",
            "Unpacking libarchive-dev:amd64 (3.6.0-1ubuntu1.4) ...\n",
            "Setting up libarchive-dev:amd64 (3.6.0-1ubuntu1.4) ...\n",
            "Processing triggers for man-db (2.10.2-1) ...\n",
            "Collecting libarchive\n",
            "  Downloading libarchive-0.4.7.tar.gz (23 kB)\n",
            "  Preparing metadata (setup.py) ... \u001b[?25l\u001b[?25hdone\n",
            "Collecting nose (from libarchive)\n",
            "  Downloading nose-1.3.7-py3-none-any.whl.metadata (1.7 kB)\n",
            "Downloading nose-1.3.7-py3-none-any.whl (154 kB)\n",
            "\u001b[2K   \u001b[90m━━━━━━━━━━━━━━━━━━━━━━━━━━━━━━━━━━━━━━━━\u001b[0m \u001b[32m154.7/154.7 kB\u001b[0m \u001b[31m6.0 MB/s\u001b[0m eta \u001b[36m0:00:00\u001b[0m\n",
            "\u001b[?25hBuilding wheels for collected packages: libarchive\n",
            "  Building wheel for libarchive (setup.py) ... \u001b[?25l\u001b[?25hdone\n",
            "  Created wheel for libarchive: filename=libarchive-0.4.7-py3-none-any.whl size=31629 sha256=7d78a7e5da93a09a3f0a86c7b58f311d8373cc208843b25b9a1eb215324fcd6d\n",
            "  Stored in directory: /root/.cache/pip/wheels/32/98/bd/4893d6923dd027f455b250367d402bfd69a6f4416581df46db\n",
            "Successfully built libarchive\n",
            "Installing collected packages: nose, libarchive\n",
            "Successfully installed libarchive-0.4.7 nose-1.3.7\n"
          ]
        }
      ],
      "source": [
        "# https://pypi.python.org/pypi/libarchive\n",
        "!apt-get -qq install -y libarchive-dev && pip install -U libarchive\n",
        "import libarchive"
      ]
    },
    {
      "cell_type": "markdown",
      "metadata": {
        "id": "vOXeNGUrXlJz"
      },
      "source": [
        " 8. How can you manage sessions in Flask?\n"
      ]
    },
    {
      "cell_type": "code",
      "execution_count": 12,
      "metadata": {
        "id": "mt5ZHIXxXk4X"
      },
      "outputs": [],
      "source": [
        " from flask import Flask, request, make_response\n",
        "\n",
        "app = Flask(__name__)\n",
        "\n",
        "@app.route('/set_cookie/<name>/<value>')\n",
        "def set_cookie(name, value):\n",
        "    response = make_response(f'Cookie \"{name}\" set to \"{value}\"')\n",
        "    response.set_cookie(name, value)\n",
        "    return response\n",
        "\n",
        "@app.route('/get_cookie/<name>')\n",
        "def get_cookie(name):\n",
        "    cookie_value = request.cookies.get(name)\n",
        "    return f'The value of cookie \"{name}\" is: {cookie_value}'\n",
        "\n",
        "@app.route('/delete_cookie/<name>')\n",
        "def delete_cookie(name):\n",
        "    response = make_response(f'Cookie \"{name}\" deleted')\n",
        "    response.delete_cookie(name)\n",
        "    return response\n",
        "\n",
        "if __name__ == '_main_':\n",
        "    app.run(debug=True)\n"
      ]
    },
    {
      "cell_type": "markdown",
      "metadata": {
        "id": "bcCzLyk0Xkow"
      },
      "source": [
        " 9. How do you redirect to a different route in Flask?\n"
      ]
    },
    {
      "cell_type": "code",
      "execution_count": 20,
      "metadata": {
        "id": "x2ozsiIlXkYr",
        "colab": {
          "base_uri": "https://localhost:8080/"
        },
        "outputId": "4a39150e-32da-4fcb-d23e-855bbdafbb4b"
      },
      "outputs": [
        {
          "output_type": "stream",
          "name": "stdout",
          "text": [
            "Requirement already satisfied: libarchive in /usr/local/lib/python3.11/dist-packages (0.4.7)\n",
            "Requirement already satisfied: nose in /usr/local/lib/python3.11/dist-packages (from libarchive) (1.3.7)\n"
          ]
        }
      ],
      "source": [
        "# https://pypi.python.org/pypi/libarchive\n",
        "!apt-get -qq install -y libarchive-dev && pip install -U libarchive\n",
        "import libarchive\n"
      ]
    },
    {
      "cell_type": "markdown",
      "metadata": {
        "id": "kLcdPtSrXkCt"
      },
      "source": [
        "10. How do you handle errors in Flask?"
      ]
    },
    {
      "cell_type": "code",
      "execution_count": 21,
      "metadata": {
        "id": "-bL5waBYXb5q"
      },
      "outputs": [],
      "source": [
        "from flask import Flask, abort\n",
        "\n",
        "app = Flask(__name__)\n",
        "\n",
        "@app.route('/resource/<id>')\n",
        "def get_resource(id):\n",
        "    # If resource not found:\n",
        "    abort(404)\n",
        "    # ... (code to handle resource if found)"
      ]
    },
    {
      "cell_type": "markdown",
      "metadata": {
        "id": "qZR-1tWhXber"
      },
      "source": [
        "11. How do you structure a Flask app using Blueprints?"
      ]
    },
    {
      "cell_type": "code",
      "execution_count": 25,
      "metadata": {
        "id": "J_7UAfLHXbK1",
        "colab": {
          "base_uri": "https://localhost:8080/"
        },
        "outputId": "67786791-8f31-403a-d59b-becd6a1bab55"
      },
      "outputs": [
        {
          "output_type": "stream",
          "name": "stdout",
          "text": [
            "Requirement already satisfied: libarchive in /usr/local/lib/python3.11/dist-packages (0.4.7)\n",
            "Requirement already satisfied: nose in /usr/local/lib/python3.11/dist-packages (from libarchive) (1.3.7)\n"
          ]
        }
      ],
      "source": [
        "# https://pypi.python.org/pypi/libarchive\n",
        "!apt-get -qq install -y libarchive-dev && pip install -U libarchive\n",
        "import libarchive"
      ]
    },
    {
      "cell_type": "markdown",
      "metadata": {
        "id": "A6tDLdPrXa6s"
      },
      "source": [
        "12. How do you define a custom Jinja filter in Flask?"
      ]
    },
    {
      "cell_type": "code",
      "execution_count": 26,
      "metadata": {
        "id": "zA6_f3g2XarJ"
      },
      "outputs": [],
      "source": [
        "def reverse_string(s):\n",
        "  return s[::-1]\n",
        "  from flask import Flask\n",
        "\n",
        "app = Flask(__name__)\n",
        "\n",
        "@app.template_filter('reverse')  # Using the decorator\n",
        "def reverse_string(s):\n",
        "  return s[::-1]\n",
        "\n",
        "# Alternatively, using app.jinja_env.filters:\n",
        "# app.jinja_env.filters['reverse'] = reverse_string"
      ]
    },
    {
      "cell_type": "markdown",
      "source": [
        "13. How can you redirect with query parameters in flask?"
      ],
      "metadata": {
        "id": "c9U2o_y5hZjA"
      }
    },
    {
      "cell_type": "code",
      "source": [
        "from flask import Flask, redirect, url_for, request\n",
        "\n",
        "app = Flask(__name__)\n",
        "\n",
        "@app.route('/redirect')\n",
        "def redirect_to_target():\n",
        "    # Build the URL with query parameters\n",
        "    return redirect(url_for('target_route', param1='value1', param2='value2'))\n",
        "\n",
        "@app.route('/target')\n",
        "def target_route():\n",
        "    # Access query parameters\n",
        "    param1 = request.args.get('param1')\n",
        "    param2 = request.args.get('param2')\n",
        "    return f\"Received param1: {param1}, param2: {param2}\""
      ],
      "metadata": {
        "id": "_yHmXpdPhZNB"
      },
      "execution_count": 28,
      "outputs": []
    },
    {
      "cell_type": "markdown",
      "source": [
        "14. How do you return JSON responses in Flask?"
      ],
      "metadata": {
        "id": "s4-q9i6OhY4E"
      }
    },
    {
      "cell_type": "code",
      "source": [
        "from flask import Flask, jsonify\n",
        "\n",
        "app = Flask(__name__)\n",
        "\n",
        "@app.route('/data')\n",
        "def get_data():\n",
        "    data = {\n",
        "        'name': 'Alice',\n",
        "        'age': 30,\n",
        "        'city': 'New York'\n",
        "    }\n",
        "    return jsonify(data)\n",
        "\n",
        "if __name__ == '__main__':\n",
        "    app.run(debug=True)"
      ],
      "metadata": {
        "collapsed": true,
        "id": "6I9gCFwehYkR"
      },
      "execution_count": null,
      "outputs": []
    },
    {
      "cell_type": "markdown",
      "source": [
        "15. How do you capture URL parameters in Flask?"
      ],
      "metadata": {
        "id": "FsoiO-zThYGt"
      }
    },
    {
      "cell_type": "code",
      "source": [
        "\n",
        " # https://pypi.python.org/pypi/libarchive\n",
        "!apt-get -qq install -y libarchive-dev && pip install -U libarchive\n",
        "import libarchive"
      ],
      "metadata": {
        "colab": {
          "base_uri": "https://localhost:8080/"
        },
        "id": "aeSysQxPhXus",
        "outputId": "2da3aec6-42b6-4d3d-c1c7-918d0b878e6d"
      },
      "execution_count": 5,
      "outputs": [
        {
          "output_type": "stream",
          "name": "stdout",
          "text": [
            "Requirement already satisfied: libarchive in /usr/local/lib/python3.11/dist-packages (0.4.7)\n",
            "Requirement already satisfied: nose in /usr/local/lib/python3.11/dist-packages (from libarchive) (1.3.7)\n"
          ]
        }
      ]
    }
  ],
  "metadata": {
    "colab": {
      "provenance": []
    },
    "kernelspec": {
      "display_name": "Python 3",
      "name": "python3"
    },
    "language_info": {
      "name": "python"
    }
  },
  "nbformat": 4,
  "nbformat_minor": 0
}